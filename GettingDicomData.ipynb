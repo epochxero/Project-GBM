{
  "nbformat": 4,
  "nbformat_minor": 0,
  "metadata": {
    "colab": {
      "name": "GettingDicomData.ipynb",
      "version": "0.3.2",
      "provenance": []
    },
    "kernelspec": {
      "name": "python3",
      "display_name": "Python 3"
    }
  },
  "cells": [
    {
      "cell_type": "markdown",
      "metadata": {
        "id": "NCfbz0PZ2H5o",
        "colab_type": "text"
      },
      "source": [
        "This cell will attempt to download all of the data from the google bucket. Not recommended as the amount of data will require alot of space and time. If running from google colab the storage will be innadequate. "
      ]
    },
    {
      "cell_type": "code",
      "metadata": {
        "id": "9G18VB1i1Y0E",
        "colab_type": "code",
        "colab": {}
      },
      "source": [
        "!gsutil -q -m cp -p -r \"gs://gbm_tcga\" /tmp"
      ],
      "execution_count": 0,
      "outputs": []
    },
    {
      "cell_type": "code",
      "metadata": {
        "id": "iR4Tpcp43MVy",
        "colab_type": "code",
        "colab": {}
      },
      "source": [
        "from google.colab import drive\n",
        "drive.mount('/content/drive')"
      ],
      "execution_count": 0,
      "outputs": []
    },
    {
      "cell_type": "markdown",
      "metadata": {
        "id": "NkDG8yh5F3ok",
        "colab_type": "text"
      },
      "source": [
        "RUN THIS AND THE NEXT CELL FIRST TO BEGIN THE CREDENTIALING PROCESS. THE GOOGLE DRIVE WILL NOT BE MOUNTABLE OTHERWISE. "
      ]
    },
    {
      "cell_type": "code",
      "metadata": {
        "id": "-ixhDWEvoekw",
        "colab_type": "code",
        "colab": {}
      },
      "source": [
        "from google.cloud import storage\n",
        "from google.colab import auth"
      ],
      "execution_count": 0,
      "outputs": []
    },
    {
      "cell_type": "code",
      "metadata": {
        "id": "4o3Wnu25oVRh",
        "colab_type": "code",
        "outputId": "84b077de-cc0e-4ac2-efe1-4c569429b832",
        "colab": {
          "base_uri": "https://localhost:8080/",
          "height": 52
        }
      },
      "source": [
        "auth.authenticate_user()\n",
        "client = storage.Client(project='peak-trilogy-248117')\n",
        "\n",
        "buckets = client.list_buckets()\n",
        "\n",
        "print(\"Buckets in {}:\".format(client.project))\n",
        "for item in buckets:\n",
        "    print(\"\\t\" + item.name)"
      ],
      "execution_count": 3,
      "outputs": [
        {
          "output_type": "stream",
          "text": [
            "Buckets in peak-trilogy-248117:\n",
            "\tgbm_tcga\n"
          ],
          "name": "stdout"
        }
      ]
    },
    {
      "cell_type": "code",
      "metadata": {
        "id": "jZzfffqae1sa",
        "colab_type": "code",
        "outputId": "1ded6907-25fe-4195-8122-651879de3215",
        "colab": {
          "base_uri": "https://localhost:8080/",
          "height": 69
        }
      },
      "source": [
        "bucket = client.get_bucket('gbm_tcga')\n",
        "\n",
        "print(\"Bucket name: {}\".format(bucket.name))\n",
        "print(\"Bucket location: {}\".format(bucket.location))\n",
        "print(\"Bucket storage class: {}\".format(bucket.storage_class))"
      ],
      "execution_count": 4,
      "outputs": [
        {
          "output_type": "stream",
          "text": [
            "Bucket name: gbm_tcga\n",
            "Bucket location: US\n",
            "Bucket storage class: MULTI_REGIONAL\n"
          ],
          "name": "stdout"
        }
      ]
    },
    {
      "cell_type": "markdown",
      "metadata": {
        "id": "12ZreNSYBiiC",
        "colab_type": "text"
      },
      "source": [
        "This cell will list all of the files that are \"T1.\" If you run may take a while and the amount of output will likely crash the notebook."
      ]
    },
    {
      "cell_type": "code",
      "metadata": {
        "id": "53KSuS5rfEQI",
        "colab_type": "code",
        "colab": {}
      },
      "source": [
        "blobs = bucket.list_blobs()\n",
        "\n",
        "print(\"Blobs in {}:\".format(bucket.name))\n",
        "for item in blobs:\n",
        "  if \"T1\" in item.name:\n",
        "    print(\"\\t\" + item.name)\n"
      ],
      "execution_count": 0,
      "outputs": []
    },
    {
      "cell_type": "markdown",
      "metadata": {
        "id": "A4PN3JwlFV9O",
        "colab_type": "text"
      },
      "source": [
        "THIS MUST BE RUN AFTER RUNNING THE CELL MARKED WITH RUN THIS FIRST!!!!!!!! The google storage will not be accessed otherwise due to credential issues. I'm not sure why they have to be run in this order or why you have to run both but that is the only way I could get it to work. If it asks you if you want to continue say yes or y. "
      ]
    },
    {
      "cell_type": "code",
      "metadata": {
        "id": "4F6Qxb6NLBPL",
        "colab_type": "code",
        "colab": {
          "base_uri": "https://localhost:8080/",
          "height": 541
        },
        "outputId": "6ce8eb20-3c72-428a-8a7a-a781d47dceab"
      },
      "source": [
        "!gcloud auth application-default login"
      ],
      "execution_count": 5,
      "outputs": [
        {
          "output_type": "stream",
          "text": [
            "\n",
            "The environment variable [GOOGLE_APPLICATION_CREDENTIALS] is set to:\n",
            "  [/content/adc.json]\n",
            "Credentials will still be generated to the default location:\n",
            "  [/content/.config/application_default_credentials.json]\n",
            "To use these credentials, unset this environment variable before\n",
            "running your application.\n",
            "\n",
            "Do you want to continue (Y/n)?  y\n",
            "\n",
            "Go to the following link in your browser:\n",
            "\n",
            "    https://accounts.google.com/o/oauth2/auth?redirect_uri=urn%3Aietf%3Awg%3Aoauth%3A2.0%3Aoob&prompt=select_account&response_type=code&client_id=764086051850-6qr4p6gpi6hn506pt8ejuq83di341hur.apps.googleusercontent.com&scope=https%3A%2F%2Fwww.googleapis.com%2Fauth%2Fuserinfo.email+https%3A%2F%2Fwww.googleapis.com%2Fauth%2Fcloud-platform&access_type=offline\n",
            "\n",
            "\n",
            "Enter verification code: 4/lgFJjPNYFgx0Ghpa67KRZhwsd-eppvdeepM9rjN93a61gxLYb4T33kA\n",
            "\n",
            "Credentials saved to file: [/content/.config/application_default_credentials.json]\n",
            "\n",
            "These credentials will be used by any library that requests\n",
            "Application Default Credentials.\n",
            "\n",
            "To generate an access token for other uses, run:\n",
            "  gcloud auth application-default print-access-token\n",
            "\n",
            "\n",
            "To take a quick anonymous survey, run:\n",
            "  $ gcloud alpha survey\n",
            "\n"
          ],
          "name": "stdout"
        }
      ]
    },
    {
      "cell_type": "markdown",
      "metadata": {
        "id": "2j_I4xw5CBVE",
        "colab_type": "text"
      },
      "source": [
        "This cell will download the required packages and dependencies so as to allow you to run gcsfuse. Gcsfuse basically mounts the google cloud storage which allows your system to treat the the storage file as if it were another file on the system."
      ]
    },
    {
      "cell_type": "code",
      "metadata": {
        "id": "aaS14KirAQ9K",
        "colab_type": "code",
        "outputId": "04d87e93-b434-4d88-a2ee-e1d0c702cf00",
        "colab": {
          "base_uri": "https://localhost:8080/",
          "height": 330
        }
      },
      "source": [
        "!echo \"deb http://packages.cloud.google.com/apt gcsfuse-bionic main\" > /etc/apt/sources.list.d/gcsfuse.list\n",
        "!curl https://packages.cloud.google.com/apt/doc/apt-key.gpg | apt-key add -\n",
        "!apt -qq update\n",
        "!apt -qq install gcsfuse"
      ],
      "execution_count": 6,
      "outputs": [
        {
          "output_type": "stream",
          "text": [
            "  % Total    % Received % Xferd  Average Speed   Time    Time     Time  Current\n",
            "                                 Dload  Upload   Total   Spent    Left  Speed\n",
            "\r  0     0    0     0    0     0      0      0 --:--:-- --:--:-- --:--:--     0\r100   659  100   659    0     0  25346      0 --:--:-- --:--:-- --:--:-- 26360\n",
            "OK\n",
            "26 packages can be upgraded. Run 'apt list --upgradable' to see them.\n",
            "The following package was automatically installed and is no longer required:\n",
            "  libnvidia-common-410\n",
            "Use 'apt autoremove' to remove it.\n",
            "The following NEW packages will be installed:\n",
            "  gcsfuse\n",
            "0 upgraded, 1 newly installed, 0 to remove and 26 not upgraded.\n",
            "Need to get 4,274 kB of archives.\n",
            "After this operation, 12.8 MB of additional disk space will be used.\n",
            "Selecting previously unselected package gcsfuse.\n",
            "(Reading database ... 131289 files and directories currently installed.)\n",
            "Preparing to unpack .../gcsfuse_0.28.1_amd64.deb ...\n",
            "Unpacking gcsfuse (0.28.1) ...\n",
            "Setting up gcsfuse (0.28.1) ...\n"
          ],
          "name": "stdout"
        }
      ]
    },
    {
      "cell_type": "code",
      "metadata": {
        "id": "v66FLb5RSqgf",
        "colab_type": "code",
        "colab": {}
      },
      "source": [
        "from google.cloud import storage\n",
        "from google.colab import auth\n",
        "auth.authenticate_user()"
      ],
      "execution_count": 0,
      "outputs": []
    },
    {
      "cell_type": "code",
      "metadata": {
        "id": "s3Et0UKQ_irY",
        "colab_type": "code",
        "outputId": "227c4ab6-fecd-4256-e4e6-4a7eacd78c68",
        "colab": {
          "base_uri": "https://localhost:8080/",
          "height": 104
        }
      },
      "source": [
        "!mkdir /tmp/tcga-gbm\n",
        "!gcsfuse --implicit-dirs gbm_tcga /tmp/tcga-gbm"
      ],
      "execution_count": 8,
      "outputs": [
        {
          "output_type": "stream",
          "text": [
            "Using mount point: /tmp/tcga-gbm\n",
            "Opening GCS connection...\n",
            "Opening bucket...\n",
            "Mounting file system...\n",
            "File system has been successfully mounted.\n"
          ],
          "name": "stdout"
        }
      ]
    },
    {
      "cell_type": "markdown",
      "metadata": {
        "id": "uPup_qp5Cav_",
        "colab_type": "text"
      },
      "source": [
        "Run this basically as a sanity check. Should list all the files in the bucket. If you get an input output error message, it is likely that your credentials weren't properly established which is probably a result of you having ran the above cells in the wrong order or missed a cell."
      ]
    },
    {
      "cell_type": "code",
      "metadata": {
        "id": "tjPVSXG8Ay_b",
        "colab_type": "code",
        "outputId": "ffc95a32-a132-4779-e017-e6fef2bab9a0",
        "colab": {
          "base_uri": "https://localhost:8080/",
          "height": 34
        }
      },
      "source": [
        "!ls /tmp/tcga-gbm"
      ],
      "execution_count": 9,
      "outputs": [
        {
          "output_type": "stream",
          "text": [
            "file_names.csv\tTCGA-GBM\n"
          ],
          "name": "stdout"
        }
      ]
    },
    {
      "cell_type": "markdown",
      "metadata": {
        "id": "zk2Nkn1PDLMh",
        "colab_type": "text"
      },
      "source": [
        "This cell will search the entire directory for all filepaths containing \"T1.\" Warning, this took several hours when I ran it. Files seem to load quickly but mapping the drive takes a very long time this way."
      ]
    },
    {
      "cell_type": "code",
      "metadata": {
        "id": "-jalRLxcEiQ1",
        "colab_type": "code",
        "outputId": "0208b078-22b2-4aec-9430-59e294d1447c",
        "colab": {
          "base_uri": "https://localhost:8080/",
          "height": 34
        }
      },
      "source": [
        "import os\n",
        "from tqdm import tqdm\n",
        "\n",
        "T1_files = []\n",
        "\n",
        "for root, dirs, files in tqdm(os.walk(\"/tmp/tcga-gbm\")):\n",
        "    for dir in dirs:\n",
        "      if \"T1\" in dir:\n",
        "        T1_files.append(os.path.join(root, dir))\n"
      ],
      "execution_count": 20,
      "outputs": [
        {
          "output_type": "stream",
          "text": [
            "6251it [3:23:53,  2.00s/it]\n"
          ],
          "name": "stderr"
        }
      ]
    },
    {
      "cell_type": "markdown",
      "metadata": {
        "id": "oSXivKGtDc9y",
        "colab_type": "text"
      },
      "source": [
        "I am using the pydicom package for handling the dicom/ .dcm files. Load it into the notebook using this command."
      ]
    },
    {
      "cell_type": "code",
      "metadata": {
        "id": "91Vz8Xv4oSPG",
        "colab_type": "code",
        "outputId": "83ecd9ce-b5fe-4b04-ee79-3f923690db30",
        "colab": {
          "base_uri": "https://localhost:8080/",
          "height": 124
        }
      },
      "source": [
        "!pip install -U pydicom"
      ],
      "execution_count": 23,
      "outputs": [
        {
          "output_type": "stream",
          "text": [
            "Collecting pydicom\n",
            "\u001b[?25l  Downloading https://files.pythonhosted.org/packages/fc/d5/da1fdf3b967e324ee47a7ad9553c9b94c1193b6b98afd9eeda0efb76b9f7/pydicom-1.3.0-py2.py3-none-any.whl (7.1MB)\n",
            "\u001b[K     |████████████████████████████████| 7.1MB 4.9MB/s \n",
            "\u001b[?25hInstalling collected packages: pydicom\n",
            "Successfully installed pydicom-1.3.0\n"
          ],
          "name": "stdout"
        }
      ]
    },
    {
      "cell_type": "markdown",
      "metadata": {
        "id": "rCGzDnWDDmrb",
        "colab_type": "text"
      },
      "source": [
        "This cell creates a interface to allow you to scroll through the stacked dicom images. Scrolling does not work in a notebook. but there should be a sample image from the stack print below."
      ]
    },
    {
      "cell_type": "code",
      "metadata": {
        "id": "V6xT8TtwglS4",
        "colab_type": "code",
        "colab": {
          "base_uri": "https://localhost:8080/",
          "height": 281
        },
        "outputId": "a43de964-c372-4fc0-eaa5-743eb3808a89"
      },
      "source": [
        "import numpy as np\n",
        "import matplotlib.pyplot as plt\n",
        "import os, glob\n",
        "import pydicom\n",
        "import pylab as pl\n",
        "import sys\n",
        "import matplotlib.path as mplPath\n",
        "\n",
        "class IndexTracker(object):\n",
        "    def __init__(self, ax, X):\n",
        "        self.ax = ax\n",
        "        ax.set_title('Scroll to Navigate through the DICOM Image Slices')\n",
        "\n",
        "        self.X = X\n",
        "        rows, cols, self.slices = X.shape\n",
        "        self.ind = self.slices//2\n",
        "\n",
        "        self.im = ax.imshow(self.X[:, :, self.ind])\n",
        "        self.update()\n",
        "\n",
        "    def onscroll(self, event):\n",
        "        print(\"%s %s\" % (event.button, event.step))\n",
        "        if event.button == 'up':\n",
        "            self.ind = (self.ind + 1) % self.slices\n",
        "        else:\n",
        "            self.ind = (self.ind - 1) % self.slices\n",
        "        self.update()\n",
        "\n",
        "    def update(self):\n",
        "        self.im.set_data(self.X[:, :, self.ind])\n",
        "        ax.set_ylabel('Slice Number: %s' % self.ind)\n",
        "        self.im.axes.figure.canvas.draw()\n",
        "\n",
        "fig, ax = plt.subplots(1,1)\n",
        "\n",
        "# load the csv with the correct file paths\n",
        "files = np.loadtxt('/tmp/tcga-gbm/file_names.csv', dtype=str, delimiter=',')\n",
        "\n",
        "# set the main directory for the glob command to search over\n",
        "os.chdir(files[0])\n",
        "\n",
        "plots = []\n",
        "frames = []\n",
        "\n",
        "# search over the file from the defined file path for all dicom images \n",
        "for file in glob.glob(\"*.dcm\"):\n",
        "    ds = pydicom.dcmread(file)\n",
        "    pix = ds.pixel_array\n",
        "    frames.append(pix)\n",
        "    pix = pix*1+(-1024)\n",
        "    plots.append(pix)\n",
        "\n",
        "y = np.dstack(plots)\n",
        "\n",
        "tracker = IndexTracker(ax, y)\n",
        "\n",
        "fig.canvas.mpl_connect('scroll_event', tracker.onscroll)\n",
        "plt.show()"
      ],
      "execution_count": 30,
      "outputs": [
        {
          "output_type": "display_data",
          "data": {
            "image/png": "[encoded data removed]",
            "text/plain": [
              "<Figure size 432x288 with 1 Axes>"
            ]
          },
          "metadata": {
            "tags": []
          }
        }
      ]
    },
    {
      "cell_type": "markdown",
      "metadata": {
        "id": "HWCWOe6ID8z3",
        "colab_type": "text"
      },
      "source": [
        "This is the shape that the sample dicom image stack has."
      ]
    },
    {
      "cell_type": "code",
      "metadata": {
        "id": "rm46HqNDjKAq",
        "colab_type": "code",
        "colab": {
          "base_uri": "https://localhost:8080/",
          "height": 34
        },
        "outputId": "5dec4829-48b2-47bf-8813-90e6d57c14a4"
      },
      "source": [
        "frames = np.array(frames)\n",
        "frames.shape"
      ],
      "execution_count": 31,
      "outputs": [
        {
          "output_type": "execute_result",
          "data": {
            "text/plain": [
              "(25, 256, 256)"
            ]
          },
          "metadata": {
            "tags": []
          },
          "execution_count": 31
        }
      ]
    }
  ]
}